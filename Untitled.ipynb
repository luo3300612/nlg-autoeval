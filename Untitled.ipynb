{
 "cells": [
  {
   "cell_type": "markdown",
   "metadata": {},
   "source": [
    "# Bleu\n",
    "This is code following [BLEU: a Method for Automatic Evaluation of Machine Translation](https://www.aclweb.org/anthology/P02-1040) to gradually build the auto metric BLEU for machine translation\n",
    "## Introduction\n",
    "BLEU(Bilingual evaluation understudy) is a automated understudy to human for evaluating the quality of neural language generation. It thinks that good translation **shares more words and phrases with its references(human translations)**. Essentially, it is a measure of precision.\n",
    "## The Baseline BLEU Metric\n",
    "### Modified n-gram precision\n",
    "First lets see the unigram precision. This exapmle shows that the metric could be gamed by overgenerated \"resonable\" words if it directly measures precision"
   ]
  },
  {
   "cell_type": "code",
   "execution_count": 6,
   "metadata": {},
   "outputs": [],
   "source": [
    "candidate = \"the the the the the the the.\"\n",
    "reference1 = \"The cat is on the mat.\"\n",
    "reference2 = \"Threr is a cat on the mat.\""
   ]
  },
  {
   "cell_type": "code",
   "execution_count": null,
   "metadata": {},
   "outputs": [],
   "source": []
  },
  {
   "cell_type": "markdown",
   "metadata": {},
   "source": []
  },
  {
   "cell_type": "markdown",
   "metadata": {},
   "source": []
  },
  {
   "cell_type": "markdown",
   "metadata": {},
   "source": []
  },
  {
   "cell_type": "code",
   "execution_count": null,
   "metadata": {},
   "outputs": [],
   "source": []
  }
 ],
 "metadata": {
  "kernelspec": {
   "display_name": "nlg-autoeval",
   "language": "python",
   "name": "nlg-autoeval"
  },
  "language_info": {
   "codemirror_mode": {
    "name": "ipython",
    "version": 3
   },
   "file_extension": ".py",
   "mimetype": "text/x-python",
   "name": "python",
   "nbconvert_exporter": "python",
   "pygments_lexer": "ipython3",
   "version": "3.7.3"
  }
 },
 "nbformat": 4,
 "nbformat_minor": 2
}
